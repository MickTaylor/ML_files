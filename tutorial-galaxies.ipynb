{
 "cells": [
  {
   "cell_type": "markdown",
   "metadata": {},
   "source": [
    "# SDSS Galaxies Machine Learning Tutorial"
   ]
  },
  {
   "cell_type": "markdown",
   "metadata": {},
   "source": [
    "This is less of a tutorial and more of a playground for you to explore machine learning. I've extracted a random set of a few thousand spectra of galaxies from SDSS DR12. I've also extracted the redshift, as determined by template and line-fitting algorithms. The idea is for you to use machine learning regression to be able to predict the redshift from the spectrum.<br>\n",
    "\n",
    "A little more about spectra and redshift: A spectrum is taken when light is split up as a function of wavelength (like a rainbow). The spectra of galaxies consist of many absorption and emission lines due to the different elements and molecules in the galaxy itself. These lines contain a wealth of information. One thing they can tell you is the redshift of the galaxy which is a result of the expansion of the Universe. Galaxies farther away have higher redshifts. The redshift of the galaxy can be determined by taking a known emission line of a particular element or molecule, which is emitted at a particular wavelength, and comparing it to the measured emission line in the galaxy spectrum.<br>\n",
    "\n",
    "Read more about cosmological redshift here: http://astronomy.swin.edu.au/cosmos/C/cosmological+redshift <br>\n",
    "\n",
    "And have a look at the description of SDSS spectra here: http://www.sdss.org/dr12/spectro/"
   ]
  },
  {
   "cell_type": "code",
   "execution_count": 2,
   "metadata": {
    "collapsed": true
   },
   "outputs": [],
   "source": [
    "from astropy.io import fits\n",
    "import numpy as np\n",
    "import matplotlib\n",
    "matplotlib.use('nbagg')\n",
    "\n",
    "import matplotlib.pyplot as plt\n",
    "import glob, os\n",
    "from scipy.interpolate import interp1d\n",
    "\n",
    "from sklearn.ensemble import RandomForestRegressor\n",
    "from sklearn.model_selection import train_test_split, GridSearchCV\n",
    "from sklearn.decomposition import PCA\n",
    "from sklearn.metrics import mean_squared_error\n",
    "\n",
    "%matplotlib nbagg"
   ]
  },
  {
   "cell_type": "markdown",
   "metadata": {},
   "source": [
    "### Load the data\n",
    "I've (kindly) extracted the SDSS spectra from the original fits file, interpolated them onto the same wavelength range and put the results into a numpy array (`F`). Each row is a new galaxy, each column in the row is the flux at a given wavelength. The wavelength range is given in `wavs`, which you won't need for the machine learning (since it's the same for each object) but you can use if you want to interpret the spectra physically. Lastly, there's an array of metadata, `met`, each row of which corresponds to the same row in `F`. The columns are [`redshift`, `plate`, `mjd`, `fiberID`]. The plate, mjd and fiberID uniquely identify this spectrum if you'd like to go back to the SDSS database to get more metadata to play with."
   ]
  },
  {
   "cell_type": "code",
   "execution_count": 3,
   "metadata": {
    "collapsed": true
   },
   "outputs": [],
   "source": [
    "F = np.load('spectra.npy')\n",
    "met = np.load('metadata.npy')\n",
    "wavs = np.linspace(4000, 8000, 4000)\n",
    "\n",
    "F= F[:len(F)//2,::4]"
   ]
  },
  {
   "cell_type": "code",
   "execution_count": 4,
   "metadata": {
    "collapsed": false
   },
   "outputs": [
    {
     "data": {
      "text/plain": [
       "array([[  6.26812800e-01,   3.69400000e+03,   5.52090000e+04,\n",
       "          3.99000000e+02],\n",
       "       [  4.98914100e-01,   4.60900000e+03,   5.62510000e+04,\n",
       "          3.91000000e+02],\n",
       "       [  5.13158000e-01,   4.04000000e+03,   5.56050000e+04,\n",
       "          8.49000000e+02],\n",
       "       ..., \n",
       "       [  4.78959900e-01,   5.89100000e+03,   5.60340000e+04,\n",
       "          1.49000000e+02],\n",
       "       [  4.76697700e-01,   4.04500000e+03,   5.56220000e+04,\n",
       "          2.90000000e+01],\n",
       "       [  5.35210800e-01,   4.99600000e+03,   5.57200000e+04,\n",
       "          6.57000000e+02]])"
      ]
     },
     "execution_count": 4,
     "metadata": {},
     "output_type": "execute_result"
    }
   ],
   "source": [
    "met"
   ]
  },
  {
   "cell_type": "markdown",
   "metadata": {},
   "source": [
    "From here you're on your own! Plot the data, come up with your own set of features and try out a regression algorithm!"
   ]
  }
 ],
 "metadata": {
  "anaconda-cloud": {},
  "kernelspec": {
   "display_name": "Python 2",
   "language": "python",
   "name": "python2"
  },
  "language_info": {
   "codemirror_mode": {
    "name": "ipython",
    "version": 2
   },
   "file_extension": ".py",
   "mimetype": "text/x-python",
   "name": "python",
   "nbconvert_exporter": "python",
   "pygments_lexer": "ipython2",
   "version": "2.7.12"
  }
 },
 "nbformat": 4,
 "nbformat_minor": 2
}
